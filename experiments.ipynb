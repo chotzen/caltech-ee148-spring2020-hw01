{
 "metadata": {
  "language_info": {
   "codemirror_mode": {
    "name": "ipython",
    "version": 3
   },
   "file_extension": ".py",
   "mimetype": "text/x-python",
   "name": "python",
   "nbconvert_exporter": "python",
   "pygments_lexer": "ipython3",
   "version": 3
  },
  "orig_nbformat": 2
 },
 "nbformat": 4,
 "nbformat_minor": 2,
 "cells": [
  {
   "cell_type": "code",
   "execution_count": null,
   "metadata": {},
   "outputs": [],
   "source": [
    "import os\n",
    "import numpy as np\n",
    "import json\n",
    "from PIL import Image"
   ]
  },
  {
   "cell_type": "code",
   "execution_count": null,
   "metadata": {},
   "outputs": [],
   "source": [
    "filters_path = 'filters/'\r\n",
    "filter_names = [f for f in sorted(os.listdir(filters_path)) if '.jpg' in f]\r\n",
    "filters = []\r\n",
    "\r\n",
    "for i in range(len(filter_names)):\r\n",
    "    f = Image.open(os.path.join(filters_path, filter_names[i]))\r\n",
    "    f_img = np.asarray(f)\r\n",
    "    filters[i] = f_img"
   ]
  }
 ]
}